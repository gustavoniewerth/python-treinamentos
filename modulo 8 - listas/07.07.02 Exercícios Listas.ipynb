{
 "cells": [
  {
   "cell_type": "markdown",
   "metadata": {},
   "source": [
    "# Exercícios\n",
    "\n",
    "## 1. Faturamento do Melhor e do Pior Mês do Ano\n",
    "\n",
    "Qual foi o valor de vendas do melhor mês do Ano?\n",
    "E valor do pior mês do ano?"
   ]
  },
  {
   "cell_type": "code",
   "execution_count": 86,
   "metadata": {},
   "outputs": [
    {
     "name": "stdout",
     "output_type": "stream",
     "text": [
      "[25000, 29000, 22200, 17750, 15870, 19900, 19850, 20120, 17540, 15555, 49051, 9650]\n",
      "49051 nov \n",
      " 9650 dez\n"
     ]
    }
   ],
   "source": [
    "meses = ['jan', 'fev', 'mar', 'abr', 'mai', 'jun', 'jul', 'ago', 'set', 'out', 'nov', 'dez']\n",
    "vendas_1sem = [25000, 29000, 22200, 17750, 15870, 19900]\n",
    "vendas_2sem = [19850, 20120, 17540, 15555, 49051, 9650]\n",
    "vendas_ano = []\n",
    "vendas_ano.extend(vendas_1sem)\n",
    "vendas_ano.extend(vendas_2sem)\n",
    "print(vendas_ano)\n",
    "\n",
    "maior_valor = max(vendas_ano)\n",
    "menor_valor = min(vendas_ano)\n",
    "\n",
    "index_maior = vendas_ano.index(max(vendas_ano))\n",
    "index_menor = vendas_ano.index(min(vendas_ano))\n",
    "\n",
    "print(maior_valor, meses[index_maior], '\\n', menor_valor, meses[index_menor])"
   ]
  },
  {
   "cell_type": "markdown",
   "metadata": {},
   "source": [
    "## 2. Continuação\n",
    "\n",
    "Agora relacione as duas listas para printar 'O melhor mês do ano foi {} com {} vendas' e o mesmo para o pior mês do ano.\n",
    "\n",
    "Calcule também o faturamento total do Ano e quanto que o melhor mês representou do faturamento total.\n",
    "\n",
    "Obs: Para o faturamento total, pode usar a função sum(lista) que soma todos os itens de uma lista"
   ]
  },
  {
   "cell_type": "code",
   "execution_count": 87,
   "metadata": {},
   "outputs": [
    {
     "name": "stdout",
     "output_type": "stream",
     "text": [
      "O melhor mês do ano foi nov com 49051 vendas\n",
      "O pior mês do ano foi dez com 9650 vendas\n",
      "Vendas do ano todo foram 261486, e o melhor mês representou 18.76% das vendas do ano todo\n"
     ]
    }
   ],
   "source": [
    "print('O melhor mês do ano foi {} com {} vendas'.format(meses[index_maior], maior_valor))\n",
    "print('O pior mês do ano foi {} com {} vendas'.format(meses[index_menor], menor_valor))\n",
    "\n",
    "faturamento_total = sum(vendas_ano)\n",
    "percentual = (maior_valor) / faturamento_total\n",
    "\n",
    "print('Vendas do ano todo foram {}, e o melhor mês representou {:.2%} das vendas do ano todo'.format(faturamento_total, percentual))"
   ]
  },
  {
   "cell_type": "markdown",
   "metadata": {},
   "source": [
    "## 3. Crie uma lista com o top 3 valores de vendas do ano (sem fazer \"no olho\")\n",
    "\n",
    "Dica: o método remove retira um item da lista."
   ]
  },
  {
   "cell_type": "code",
   "execution_count": 88,
   "metadata": {},
   "outputs": [
    {
     "name": "stdout",
     "output_type": "stream",
     "text": [
      "[49051, 29000, 25000]\n"
     ]
    }
   ],
   "source": [
    "top3 = []\n",
    "\n",
    "for i in range(3):\n",
    "    maior_valor = max(vendas_ano)\n",
    "    top3.append(maior_valor)\n",
    "    vendas_ano.remove(maior_valor)\n",
    "    i += 1\n",
    "print(top3)"
   ]
  }
 ],
 "metadata": {
  "kernelspec": {
   "display_name": "Python 3 (ipykernel)",
   "language": "python",
   "name": "python3"
  },
  "language_info": {
   "codemirror_mode": {
    "name": "ipython",
    "version": 3
   },
   "file_extension": ".py",
   "mimetype": "text/x-python",
   "name": "python",
   "nbconvert_exporter": "python",
   "pygments_lexer": "ipython3",
   "version": "3.9.13"
  }
 },
 "nbformat": 4,
 "nbformat_minor": 4
}
