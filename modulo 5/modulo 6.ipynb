{
 "cells": [
  {
   "cell_type": "code",
   "execution_count": 7,
   "id": "7b604a43",
   "metadata": {},
   "outputs": [
    {
     "name": "stdout",
     "output_type": "stream",
     "text": [
      "O faturamento da loja foi 1000\n",
      "O faturamento da loja foi 1000\n",
      "O custo da loja foi 500\n",
      "O custo da loja foi 500\n",
      "Assim, o lucro da loja foi de 500 reais\n",
      "Assim, o lucro da loja foi de 500 reais\n"
     ]
    }
   ],
   "source": [
    "# Concatenar Str com outros tipos\n",
    "\n",
    "faturamento = 1000\n",
    "custo = 500\n",
    "lucro = faturamento - custo\n",
    "\n",
    "# Vai dar erro: print('O faturamento da loja foi ' + faturamento)\n",
    "\n",
    "print('O faturamento da loja foi ' + str(faturamento)) # transformou faturamento em string\n",
    "print('O faturamento da loja foi' , faturamento)\n",
    "\n",
    "print('O custo da loja foi ' + str(custo))\n",
    "print('O custo da loja foi' , custo)\n",
    "\n",
    "print('Assim, o lucro da loja foi de ' + str(lucro) + ' reais')\n",
    "print('Assim, o lucro da loja foi de' , lucro , 'reais')"
   ]
  },
  {
   "cell_type": "code",
   "execution_count": null,
   "id": "33a107d0",
   "metadata": {},
   "outputs": [],
   "source": []
  }
 ],
 "metadata": {
  "kernelspec": {
   "display_name": "Python 3 (ipykernel)",
   "language": "python",
   "name": "python3"
  },
  "language_info": {
   "codemirror_mode": {
    "name": "ipython",
    "version": 3
   },
   "file_extension": ".py",
   "mimetype": "text/x-python",
   "name": "python",
   "nbconvert_exporter": "python",
   "pygments_lexer": "ipython3",
   "version": "3.9.13"
  }
 },
 "nbformat": 4,
 "nbformat_minor": 5
}
