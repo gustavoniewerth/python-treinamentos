{
 "cells": [
  {
   "cell_type": "markdown",
   "id": "ac60394f",
   "metadata": {
    "id": "ac60394f"
   },
   "source": [
    "# Estruturas de repetição\n",
    "\n",
    "<span style=\"color: red;\"><b>Todos os exercícios são feitos partindo-se do pressuposto de que todas as entradas são dadas de forma correta. Casos limite não mencionados no enunciado não são abordados porque não fazem parte do exercício.</b></span>"
   ]
  },
  {
   "cell_type": "markdown",
   "id": "017affd0",
   "metadata": {
    "id": "017affd0"
   },
   "source": [
    "#### 1. Faça um programa que peça uma nota, entre zero e dez. Mostre uma mensagem caso o valor seja inválido e continue pedindo até que o usuário informe um valor válido."
   ]
  },
  {
   "cell_type": "code",
   "execution_count": 1,
   "id": "5f12870d",
   "metadata": {
    "id": "5f12870d"
   },
   "outputs": [
    {
     "name": "stdout",
     "output_type": "stream",
     "text": [
      "Digite uma nota entre zero e dez11\n",
      "Nota inválida. Digite uma nota entre zero e dez.\n",
      "Digite uma nota entre zero e dez10\n"
     ]
    }
   ],
   "source": [
    "nota = int(input('Digite uma nota entre zero e dez'))\n",
    "while not (0 <= nota <= 10):\n",
    "    print(\"Nota inválida. Digite uma nota entre zero e dez.\")\n",
    "    nota = int(input('Digite uma nota entre zero e dez'))\n",
    "    "
   ]
  },
  {
   "cell_type": "markdown",
   "id": "dd0c6d56",
   "metadata": {
    "id": "dd0c6d56"
   },
   "source": [
    "#### 2. Faça um programa que leia um nome de usuário e a sua senha e não aceite a senha igual ao nome do usuário, mostrando uma mensagem de erro e voltando a pedir as informações."
   ]
  },
  {
   "cell_type": "code",
   "execution_count": 2,
   "id": "f6579866",
   "metadata": {
    "id": "f6579866"
   },
   "outputs": [
    {
     "name": "stdout",
     "output_type": "stream",
     "text": [
      "Digite seu nome de usuárioa\n",
      "Digite sua senhaa\n",
      "Senha não pode ser a mesma que o nome\n",
      "Digite sua senhaa\n",
      "Senha não pode ser a mesma que o nome\n",
      "Digite sua senhab\n"
     ]
    }
   ],
   "source": [
    "nome = input('Digite seu nome de usuário')\n",
    "senha = input('Digite sua senha')\n",
    "\n",
    "while nome == senha:\n",
    "    print('Senha não pode ser a mesma que o nome')\n",
    "    senha = input('Digite sua senha')"
   ]
  },
  {
   "cell_type": "markdown",
   "id": "ed113a82",
   "metadata": {
    "id": "ed113a82"
   },
   "source": [
    "#### 3. Faça um programa que leia e valide as seguintes informações (e para cada uma delas, continue pedindo a informação até o usuário inserir corretamente):\n",
    "##### Nome: maior que 3 caracteres;\n",
    "##### Idade: entre 0 e 150;\n",
    "##### Salário: maior que zero;\n",
    "##### Sexo: 'f' ou 'm';\n",
    "##### Estado Civil: 's', 'c', 'v', 'd';"
   ]
  },
  {
   "cell_type": "code",
   "execution_count": 4,
   "id": "3284f187",
   "metadata": {
    "id": "3284f187"
   },
   "outputs": [
    {
     "name": "stdout",
     "output_type": "stream",
     "text": [
      "Digite seu nome, 3 caracteres ou maisa\n",
      "Digite seu nome, 3 caracteres ou maisaskhgd\n",
      "Digite sua idade - entre 0 e 150\n"
     ]
    },
    {
     "ename": "ValueError",
     "evalue": "invalid literal for int() with base 10: ''",
     "output_type": "error",
     "traceback": [
      "\u001b[1;31m---------------------------------------------------------------------------\u001b[0m",
      "\u001b[1;31mValueError\u001b[0m                                Traceback (most recent call last)",
      "\u001b[1;32m~\\AppData\\Local\\Temp\\ipykernel_85388\\1745476147.py\u001b[0m in \u001b[0;36m<module>\u001b[1;34m\u001b[0m\n\u001b[0;32m      3\u001b[0m     \u001b[0mnome\u001b[0m \u001b[1;33m=\u001b[0m \u001b[0minput\u001b[0m\u001b[1;33m(\u001b[0m\u001b[1;34m'Digite seu nome, 3 caracteres ou mais'\u001b[0m\u001b[1;33m)\u001b[0m\u001b[1;33m\u001b[0m\u001b[1;33m\u001b[0m\u001b[0m\n\u001b[0;32m      4\u001b[0m \u001b[1;33m\u001b[0m\u001b[0m\n\u001b[1;32m----> 5\u001b[1;33m \u001b[0midade\u001b[0m \u001b[1;33m=\u001b[0m \u001b[0mint\u001b[0m\u001b[1;33m(\u001b[0m\u001b[0minput\u001b[0m\u001b[1;33m(\u001b[0m\u001b[1;34m'Digite sua idade - entre 0 e 150'\u001b[0m\u001b[1;33m)\u001b[0m\u001b[1;33m)\u001b[0m\u001b[1;33m\u001b[0m\u001b[1;33m\u001b[0m\u001b[0m\n\u001b[0m\u001b[0;32m      6\u001b[0m \u001b[1;32mwhile\u001b[0m \u001b[1;32mnot\u001b[0m\u001b[1;33m(\u001b[0m\u001b[1;36m0\u001b[0m \u001b[1;33m<=\u001b[0m \u001b[0midade\u001b[0m \u001b[1;33m<=\u001b[0m \u001b[1;36m150\u001b[0m\u001b[1;33m)\u001b[0m\u001b[1;33m:\u001b[0m\u001b[1;33m\u001b[0m\u001b[1;33m\u001b[0m\u001b[0m\n\u001b[0;32m      7\u001b[0m     \u001b[0midade\u001b[0m \u001b[1;33m=\u001b[0m \u001b[0mint\u001b[0m\u001b[1;33m(\u001b[0m\u001b[0minput\u001b[0m\u001b[1;33m(\u001b[0m\u001b[1;34m'Digite sua idade - entre 0 e 150'\u001b[0m\u001b[1;33m)\u001b[0m\u001b[1;33m)\u001b[0m\u001b[1;33m\u001b[0m\u001b[1;33m\u001b[0m\u001b[0m\n",
      "\u001b[1;31mValueError\u001b[0m: invalid literal for int() with base 10: ''"
     ]
    }
   ],
   "source": [
    "nome = input('Digite seu nome, 3 caracteres ou mais')\n",
    "while len(nome) < 4:\n",
    "    nome = input('Digite seu nome, 3 caracteres ou mais')\n",
    "\n",
    "idade = int(input('Digite sua idade - entre 0 e 150'))\n",
    "while not(0 <= idade <= 150):\n",
    "    idade = int(input('Digite sua idade - entre 0 e 150'))\n",
    "\n",
    "salario = float(input('Digite seu salário'))\n",
    "while salario < 0:\n",
    "    salario = float(input('Digite seu salário'))\n",
    "\n",
    "sexo = input('Digite seu sexo, utilize f ou m')\n",
    "while not sexo(['f', 'm']):\n",
    "    sexo = input('Digite seu sexo, utilize f ou m')\n",
    "\n",
    "estado_civil = input(\"Estado civil: 's', 'c', 'v', 'd'\")\n",
    "while not estado_civil(['s', 'c', 'v', 'd']):\n",
    "    estado_civil = input(\"Estado civil: 's', 'c', 'v', 'd'\")"
   ]
  },
  {
   "cell_type": "markdown",
   "id": "2f25dceb",
   "metadata": {
    "id": "2f25dceb"
   },
   "source": [
    "#### 4. Supondo que a população de um país A seja da ordem de 80000 habitantes com uma taxa anual de crescimento de 3% e que a população de B seja 200000 habitantes com uma taxa de crescimento de 1.5%. Faça um programa que calcule e escreva o número de anos necessários para que a população do país A ultrapasse ou iguale a população do país B, mantidas as taxas de crescimento."
   ]
  },
  {
   "cell_type": "code",
   "execution_count": 6,
   "id": "7ad0f5e9",
   "metadata": {
    "id": "7ad0f5e9"
   },
   "outputs": [
    {
     "name": "stdout",
     "output_type": "stream",
     "text": [
      "São necessários 63 anos para a população A igualar ou superar a população B\n"
     ]
    }
   ],
   "source": [
    "populacao_A = 80000\n",
    "populacao_B = 200000\n",
    "\n",
    "tempo = 0\n",
    "\n",
    "while populacao_B > populacao_A:\n",
    "    populacao_A *= 1.03\n",
    "    populacao_B *= 1.015\n",
    "    tempo += 1\n",
    "\n",
    "print('São necessários', tempo, 'anos para a população A igualar ou superar a população B')"
   ]
  },
  {
   "cell_type": "markdown",
   "id": "e9626858",
   "metadata": {
    "id": "e9626858"
   },
   "source": [
    "#### 5. Altere o programa anterior permitindo ao usuário informar as populações e as taxas de crescimento iniciais. Valide a entrada e permita repetir a operação."
   ]
  },
  {
   "cell_type": "code",
   "execution_count": null,
   "id": "c7e250a4",
   "metadata": {
    "id": "c7e250a4"
   },
   "outputs": [],
   "source": [
    "repete = 's'\n",
    "\n",
    "while repete == 's':\n",
    "    \n",
    "    tempo = 0\n",
    "    \n",
    "    populacao_A = int(input('Informe a população A: '))\n",
    "    populacao_B = int(input('Informe a população B: '))\n",
    "    \n",
    "    while populacao_A <= 0 or populacao_B <= 0:\n",
    "        print('As populações precisam ser maiores que zero')\n",
    "        populacao_A = int(input('Informe a população A: '))\n",
    "        populacao_B = int(input('Informe a população B: '))\n",
    "    \n",
    "    taxa_A = float(input('Informe a taxa de crescimento da população A em porcentagem (exemplo: entre 3 para 3%): '))\n",
    "    taxa_B = float(input('Informe a taxa de crescimento da população A em porcentagem (exemplo: entre 3 para 3%): '))\n",
    "    \n",
    "    while taxa_A <= 0 or taxa_B <= 0:\n",
    "        print('As taxas precisam ser maiores que zero')\n",
    "        taxa_A = float(input('Informe a taxa de crescimento da população A em porcentagem (exemplo: entre 3 para 3%): '))\n",
    "        taxa_B = float(input('Informe a taxa de crescimento da população A em porcentagem (exemplo: entre 3 para 3%): '))\n",
    "        \n",
    "    while populacao_B > populacao_A:\n",
    "        populacao_A *= taxa_A\n",
    "        populacao_B *= taxa_B\n",
    "        tempo += 1\n",
    "        \n",
    "    print('São necessários', tempo, 'anos para a população A igualar ou superar a população B')\n",
    "    repete = input('Deseja repetir a operação? Tecle \"s\" para sim, qualquer outra tecla para não.')"
   ]
  },
  {
   "cell_type": "markdown",
   "id": "b3d268b5",
   "metadata": {
    "id": "b3d268b5"
   },
   "source": [
    "#### 6. Faça um programa que peça para o usuário inserir o faturamento dos últimos 5 meses (individualmente) e informe o maior faturamento"
   ]
  },
  {
   "cell_type": "code",
   "execution_count": 8,
   "id": "8078e7a5",
   "metadata": {
    "id": "8078e7a5"
   },
   "outputs": [
    {
     "name": "stdout",
     "output_type": "stream",
     "text": [
      "Digite seu faturamento dos ultimos 5 meses individualmente4\n",
      "Digite seu faturamento dos ultimos 5 meses individualmente7\n",
      "Digite seu faturamento dos ultimos 5 meses individualmente8\n",
      "Digite seu faturamento dos ultimos 5 meses individualmente42314\n",
      "Digite seu faturamento dos ultimos 5 meses individualmente45\n",
      "Maior faturamento: 42314\n"
     ]
    }
   ],
   "source": [
    "lista = []\n",
    "\n",
    "for i in range(5):\n",
    "    faturamento = int(input('Digite seu faturamento dos ultimos 5 meses individualmente'))\n",
    "    lista.append(faturamento)\n",
    "    \n",
    "maior_numero = max(lista)\n",
    "\n",
    "print('Maior faturamento: {}'.format(maior_numero))"
   ]
  },
  {
   "cell_type": "markdown",
   "id": "6407824c",
   "metadata": {
    "id": "6407824c"
   },
   "source": [
    "#### 7. Faça um programa que peça para o usuário inserir o faturamento dos últimos 5 meses (individualmente) e informe o faturamento total (soma) e o faturamento médio por mês (média)."
   ]
  },
  {
   "cell_type": "code",
   "execution_count": 9,
   "id": "a02320d1",
   "metadata": {
    "id": "a02320d1"
   },
   "outputs": [
    {
     "name": "stdout",
     "output_type": "stream",
     "text": [
      "Digite seu faturamento dos ultimos 5 meses individualmente10\n",
      "Digite seu faturamento dos ultimos 5 meses individualmente8\n",
      "Digite seu faturamento dos ultimos 5 meses individualmente9\n",
      "Digite seu faturamento dos ultimos 5 meses individualmente10\n",
      "Digite seu faturamento dos ultimos 5 meses individualmente8\n",
      "Maior faturamento: 10 Faturamento total: 45 Media lista: 9.0\n"
     ]
    }
   ],
   "source": [
    "lista = []\n",
    "\n",
    "for i in range(5):\n",
    "    faturamento = int(input('Digite seu faturamento dos ultimos 5 meses individualmente'))\n",
    "    lista.append(faturamento)\n",
    "    \n",
    "maior_numero = max(lista)\n",
    "soma_lista = sum(lista)\n",
    "media_lista = soma_lista / len(lista)\n",
    "\n",
    "print('Maior faturamento: {} Faturamento total: {} Media lista: {}'.format(maior_numero, soma_lista, media_lista))"
   ]
  },
  {
   "cell_type": "markdown",
   "id": "703f3c4d",
   "metadata": {
    "id": "703f3c4d"
   },
   "source": [
    "#### 8. Faça um programa que consiga categorizar a idade das equipes de uma empresa. Faça um programa que peça para n pessoas a sua idade, ao final o programa devera verificar se a média de idade da equipe varia entre 0 e 25 (jovem) ,26 e 60 (sênior) e maior que 60 (idosa); e então, dizer se a equipe é jovem, sênior ou idosa, conforme a média calculada."
   ]
  },
  {
   "cell_type": "code",
   "execution_count": 12,
   "id": "b56a85de",
   "metadata": {
    "id": "b56a85de"
   },
   "outputs": [
    {
     "name": "stdout",
     "output_type": "stream",
     "text": [
      "Digite a idade (ou pressione Enter para sair): 60\n",
      "Digite a idade (ou pressione Enter para sair): 60\n",
      "Digite a idade (ou pressione Enter para sair): 60\n",
      "Digite a idade (ou pressione Enter para sair): 61\n",
      "Digite a idade (ou pressione Enter para sair): \n",
      "Conforme a média calculada a equipe é idosa.\n"
     ]
    }
   ],
   "source": [
    "lista = []\n",
    "idade = 0\n",
    "while True:\n",
    "    idade_input = input('Digite a idade (ou pressione Enter para sair): ')\n",
    "    if idade_input == '':\n",
    "        break\n",
    "    idade = int(idade_input)\n",
    "    lista.append(idade)\n",
    "    \n",
    "media_idade = sum(lista) / len(lista)\n",
    "\n",
    "if (0 > media_idade >= 25):\n",
    "    print('Conforme a média calculada a equipe é jovem.')\n",
    "elif (26 >= media_idade >=60):\n",
    "    print('Conforme a média calculada a equipe é sênior.')\n",
    "else:\n",
    "    print('Conforme a média calculada a equipe é idosa.')"
   ]
  },
  {
   "cell_type": "markdown",
   "id": "aad21b98",
   "metadata": {
    "id": "aad21b98"
   },
   "source": [
    "#### 9. Numa eleição existem três candidatos. Faça um programa que peça o número total de eleitores. Peça para cada eleitor votar e ao final mostrar o número de votos de cada candidato."
   ]
  },
  {
   "cell_type": "code",
   "execution_count": 15,
   "id": "84aa7a93",
   "metadata": {
    "id": "84aa7a93"
   },
   "outputs": [
    {
     "name": "stdout",
     "output_type": "stream",
     "text": [
      "Digite o numéro de eleitores10\n",
      "Vote no candito A, B ou CA\n",
      "Vote no candito A, B ou CA\n",
      "Vote no candito A, B ou CA\n",
      "Vote no candito A, B ou CA\n",
      "Vote no candito A, B ou CB\n",
      "Vote no candito A, B ou CC\n",
      "Vote no candito A, B ou CC\n",
      "Vote no candito A, B ou CB\n",
      "Vote no candito A, B ou CB\n",
      "Vote no candito A, B ou CA\n",
      "Voto candidato A: 5 Voto candidato B: 3 Voto candidato C: 2\n"
     ]
    }
   ],
   "source": [
    "numero_total_eleitores = int(input('Digite o numéro de eleitores'))\n",
    "\n",
    "candidato_A = 0\n",
    "candidato_B = 0\n",
    "candidato_C = 0\n",
    "\n",
    "for i in range(numero_total_eleitores):\n",
    "    voto = input('Vote no candito A, B ou C')\n",
    "    if voto == 'A':\n",
    "        candidato_A += 1\n",
    "    elif voto == 'B':\n",
    "        candidato_B += 1\n",
    "    elif voto == 'C':\n",
    "        candidato_C += 1\n",
    "    else:\n",
    "        print(\"Voto inválido. Vote apenas em A, B ou C.\")\n",
    "        \n",
    "print('Voto candidato A: {} Voto candidato B: {} Voto candidato C: {}'.format(candidato_A, candidato_B, candidato_C))"
   ]
  },
  {
   "cell_type": "markdown",
   "id": "6e306453",
   "metadata": {
    "id": "6e306453"
   },
   "source": [
    "#### 10. Faça um programa que calcule o valor total investido por um colecionador em sua coleção de CDs e o valor médio gasto em cada um deles. O usuário deverá informar a quantidade de CDs e o valor para em cada um."
   ]
  },
  {
   "cell_type": "code",
   "execution_count": 16,
   "id": "6b7fa4a2",
   "metadata": {
    "id": "6b7fa4a2"
   },
   "outputs": [
    {
     "name": "stdout",
     "output_type": "stream",
     "text": [
      "Quantidade de CDs: 2\n",
      "Digite o valor do CD: 5461\n",
      "Digite o valor do CD: 1000\n",
      "Valor total: 6461 Media CDs: 3230.5\n"
     ]
    }
   ],
   "source": [
    "qtde_cds = int(input('Quantidade de CDs: '))\n",
    "\n",
    "lista = []\n",
    "\n",
    "for i in range(qtde_cds):\n",
    "    valor = int(input('Digite o valor do CD: '))\n",
    "    lista.append(valor)\n",
    "    \n",
    "soma_lista = sum(lista)\n",
    "media_lista = soma_lista / len(lista)\n",
    "\n",
    "print('Valor total: {} Media CDs: {}'.format(soma_lista, media_lista))"
   ]
  },
  {
   "cell_type": "markdown",
   "id": "f19c8d86",
   "metadata": {
    "id": "f19c8d86"
   },
   "source": [
    "#### 11. O Sr. Manoel Joaquim possui uma grande loja de artigos de R\\\\$ 1,99, com cerca de 10 caixas. Para agilizar o cálculo de quanto cada cliente deve pagar ele desenvolveu um tabela que contém o número de itens que o cliente comprou e ao lado o valor da conta. Desta forma a atendente do caixa precisa apenas contar quantos itens o cliente está levando e olhar na tabela de preços. Você foi contratado para desenvolver o programa que monta esta tabela de preços, que conterá os preços de 1 até 50 produtos, conforme o exemplo abaixo:\n",
    "<pre>\n",
    "Lojas Quase Dois - Tabela de preços\n",
    "1 - R$ 1.99\n",
    "2 - R$ 3.98\n",
    "...\n",
    "50 - R$ 99.50\n",
    "</pre>"
   ]
  },
  {
   "cell_type": "code",
   "execution_count": 26,
   "id": "4fc4d54d",
   "metadata": {
    "id": "4fc4d54d"
   },
   "outputs": [
    {
     "name": "stdout",
     "output_type": "stream",
     "text": [
      "1 - R$ 1.99\n",
      "2 - R$ 3.98\n",
      "3 - R$ 5.97\n",
      "4 - R$ 7.96\n",
      "5 - R$ 9.95\n",
      "6 - R$ 11.94\n",
      "7 - R$ 13.93\n",
      "8 - R$ 15.92\n",
      "9 - R$ 17.91\n",
      "10 - R$ 19.90\n",
      "11 - R$ 21.89\n",
      "12 - R$ 23.88\n",
      "13 - R$ 25.87\n",
      "14 - R$ 27.86\n",
      "15 - R$ 29.85\n",
      "16 - R$ 31.84\n",
      "17 - R$ 33.83\n",
      "18 - R$ 35.82\n",
      "19 - R$ 37.81\n",
      "20 - R$ 39.80\n",
      "21 - R$ 41.79\n",
      "22 - R$ 43.78\n",
      "23 - R$ 45.77\n",
      "24 - R$ 47.76\n",
      "25 - R$ 49.75\n",
      "26 - R$ 51.74\n",
      "27 - R$ 53.73\n",
      "28 - R$ 55.72\n",
      "29 - R$ 57.71\n",
      "30 - R$ 59.70\n",
      "31 - R$ 61.69\n",
      "32 - R$ 63.68\n",
      "33 - R$ 65.67\n",
      "34 - R$ 67.66\n",
      "35 - R$ 69.65\n",
      "36 - R$ 71.64\n",
      "37 - R$ 73.63\n",
      "38 - R$ 75.62\n",
      "39 - R$ 77.61\n",
      "40 - R$ 79.60\n",
      "41 - R$ 81.59\n",
      "42 - R$ 83.58\n",
      "43 - R$ 85.57\n",
      "44 - R$ 87.56\n",
      "45 - R$ 89.55\n",
      "46 - R$ 91.54\n",
      "47 - R$ 93.53\n",
      "48 - R$ 95.52\n",
      "49 - R$ 97.51\n",
      "50 - R$ 99.50\n"
     ]
    }
   ],
   "source": [
    "preco = 1.99\n",
    "\n",
    "for i in range(50):\n",
    "    print('{} - R$ {:.2f}'.format(i+1, preco))\n",
    "    preco += 1.99"
   ]
  },
  {
   "cell_type": "markdown",
   "id": "6cd19c52",
   "metadata": {
    "id": "6cd19c52"
   },
   "source": [
    "#### 12. Um funcionário de uma empresa recebe aumento salarial anualmente: Sabe-se que:\n",
    "<pre>\n",
    "Esse funcionário foi contratado em 1995, com salário inicial de R$ 1.000,00;\n",
    "Em 1996 recebeu aumento de 1,5% sobre seu salário inicial;\n",
    "A partir de 1997 (inclusive), os aumentos salariais sempre correspondem ao dobro do percentual do ano anterior. Faça um programa que determine o salário desse funcionário em 2003. \n",
    "</pre>"
   ]
  },
  {
   "cell_type": "code",
   "execution_count": 34,
   "id": "98a4811b",
   "metadata": {
    "id": "98a4811b"
   },
   "outputs": [
    {
     "name": "stdout",
     "output_type": "stream",
     "text": [
      "O salário em 2003 era R$ 13036.15\n"
     ]
    }
   ],
   "source": [
    "salario = 1000 * 1.015\n",
    "aumento = 0.015\n",
    "tempo = 1997\n",
    "\n",
    "while tempo < 2004:\n",
    "    aumento *= 2\n",
    "    salario *= (1 + aumento)\n",
    "    tempo += 1\n",
    "\n",
    "print('O salário em 2003 era R$ {:.2f}'.format(salario))"
   ]
  },
  {
   "cell_type": "markdown",
   "id": "227928d1",
   "metadata": {
    "id": "227928d1"
   },
   "source": [
    "#### 13. O cardápio de uma lanchonete é o seguinte:\n",
    "<pre>\n",
    "Especificação   Código  Preço\n",
    "Cachorro Quente 100     R$ 1,20\n",
    "Bauru Simples   101     R$ 1,30\n",
    "Bauru com ovo   102     R$ 1,50\n",
    "Hambúrguer      103     R$ 1,20\n",
    "Cheeseburguer   104     R$ 1,30\n",
    "Refrigerante    105     R$ 1,00\n",
    "Faça um programa que leia o código dos itens pedidos e as quantidades desejadas. Calcule e mostre o valor a ser pago por item (preço * quantidade) e o total geral do pedido. Considere que o cliente deve informar quando o pedido deve ser encerrado.\n",
    "</pre>"
   ]
  },
  {
   "cell_type": "code",
   "execution_count": null,
   "id": "8a784b86",
   "metadata": {
    "id": "8a784b86"
   },
   "outputs": [],
   "source": [
    "total = 0\n",
    "codigo = input('Informe o código do produto, caso deseje encerrar digite \"encerrar\": ')\n",
    "while codigo != 'encerrar'\n",
    "    qtde = int(input('Informe a quantidade: '))\n",
    "        if codigo == '100':\n",
    "            total += 1.2 * qtde\n",
    "        elif codigo == '101':\n",
    "            total += 1.3 * qtde\n",
    "        elif codigo == '102':\n",
    "            total += 1.5 * qtde\n",
    "        elif codigo == '103':\n",
    "            total += 1.2 * qtde\n",
    "        elif codigo == '104':\n",
    "            total += 1.3 * qtde\n",
    "        elif codigo == '105':\n",
    "            total += 1 * qtde\n",
    "        \n",
    "        codigo = input('Informe o código do produto, caso deseje encerrar digite \"encerrar\": ')\n",
    "\n",
    "print('O total a ser pago é: R$ ', total)"
   ]
  },
  {
   "cell_type": "markdown",
   "id": "9877b8ba",
   "metadata": {
    "id": "9877b8ba"
   },
   "source": [
    "#### 14. Uma grande emissora de televisão quer fazer uma enquete entre os seus telespectadores para saber qual o melhor jogador após cada jogo. Para isto, faz-se necessário o desenvolvimento de um programa, que será utilizado pelas telefonistas, para a computação dos votos. Sua equipe foi contratada para desenvolver este programa, utilizando a linguagem de programação Python. Para computar cada voto, a telefonista digitará um número, entre 1 e 23, correspondente ao número da camisa do jogador. Um número de jogador igual zero, indica que a votação foi encerrada. Se um número inválido for digitado, o programa deve ignorá-lo, mostrando uma breve mensagem de aviso, e voltando a pedir outro número. Após o final da votação, o programa deverá exibir:\n",
    "<pre>a. O total de votos computados;\n",
    "b. Os números e respectivos votos de todos os jogadores que receberam votos;\n",
    "c. O percentual de votos de cada um destes jogadores;\n",
    "d. O número do jogador escolhido como o melhor jogador da partida, juntamente com o número de votos e o percentual de votos dados a ele.\n",
    "        Observe que os votos inválidos e o zero final não devem ser computados como votos. O resultado aparece ordenado pelo número do jogador. O programa deve fazer uso de arrays. O programa deverá executar o cálculo do percentual de cada jogador através de uma função. Esta função receberá dois parâmetros: o número de votos de um jogador e o total de votos. A função calculará o percentual e retornará o valor calculado. Abaixo segue uma tela de exemplo. O disposição das informações deve ser o mais próxima possível ao exemplo. Os dados são fictícios e podem mudar a cada execução do programa. Ao final, o programa deve ainda gravar os dados referentes ao resultado da votação em um arquivo texto no disco, obedecendo a mesma disposição apresentada na tela.</pre>\n",
    "```\n",
    "Enquete: Quem foi o melhor jogador?\n",
    "\n",
    "Número do jogador (0=fim): 9\n",
    "Número do jogador (0=fim): 10\n",
    "Número do jogador (0=fim): 9\n",
    "Número do jogador (0=fim): 10\n",
    "Número do jogador (0=fim): 11\n",
    "Número do jogador (0=fim): 10\n",
    "Número do jogador (0=fim): 50\n",
    "Informe um valor entre 1 e 23 ou 0 para sair!\n",
    "Número do jogador (0=fim): 9\n",
    "Número do jogador (0=fim): 9\n",
    "Número do jogador (0=fim): 0\n",
    "\n",
    "Resultado da votação:\n",
    "\n",
    "Foram computados 8 votos.\n",
    "\n",
    "Jogador Votos           %\n",
    "9               4               50,0%\n",
    "10              3               37,5%\n",
    "11              1               12,5%\n",
    "``` "
   ]
  },
  {
   "cell_type": "code",
   "execution_count": 3,
   "id": "79b82364",
   "metadata": {
    "id": "79b82364"
   },
   "outputs": [
    {
     "name": "stdout",
     "output_type": "stream",
     "text": [
      "Enquete: Quem foi o melhor jogador?\n",
      "Número do jogador (0=fim): 12\n",
      "Número do jogador (0=fim): 5\n",
      "Número do jogador (0=fim): 61\n",
      "Informe um valor entre 1 e 23 ou 0 para sair!\n",
      "Número do jogador (0=fim): 61\n",
      "Informe um valor entre 1 e 23 ou 0 para sair!\n",
      "Número do jogador (0=fim): 61\n",
      "Informe um valor entre 1 e 23 ou 0 para sair!\n",
      "Número do jogador (0=fim): 12\n",
      "Número do jogador (0=fim): 0\n",
      "Foram computados 3 votos.\n",
      "Jogador\tVotos\t%\n",
      "5\t1\t33.3%\n",
      "12\t2\t66.7%\n",
      "O melhor jogador foi o número 12, com 2 votos, correspondendo a 67% do total de votos.\n"
     ]
    }
   ],
   "source": [
    "votos = []\n",
    "print('Enquete: Quem foi o melhor jogador?')\n",
    "for i in range(23):\n",
    "    votos.append(0)\n",
    "    \n",
    "while True:\n",
    "    numero = int(input('Número do jogador (0=fim): '))\n",
    "    if numero == 0:\n",
    "        break\n",
    "    elif not 1 <= numero <= 23:\n",
    "        print('Informe um valor entre 1 e 23 ou 0 para sair!')\n",
    "        continue\n",
    "    votos[numero - 1] += 1\n",
    "    \n",
    "total = sum(votos)\n",
    "print('Foram computados', total, 'votos.')\n",
    "print('Jogador\\tVotos\\t%')\n",
    "for i, voto in enumerate(votos):\n",
    "    if voto > 0:\n",
    "        print(f'{i+1}\\t{voto}\\t{voto/total:.1%}')\n",
    "        \n",
    "melhor = max(votos)\n",
    "i = votos.index(melhor)\n",
    "porcentagem = melhor/total\n",
    "print(f'O melhor jogador foi o número {i+1}, com {melhor} votos, correspondendo a {porcentagem:.0%} do total de votos.')"
   ]
  }
 ],
 "metadata": {
  "colab": {
   "collapsed_sections": [],
   "provenance": []
  },
  "kernelspec": {
   "display_name": "Python 3 (ipykernel)",
   "language": "python",
   "name": "python3"
  },
  "language_info": {
   "codemirror_mode": {
    "name": "ipython",
    "version": 3
   },
   "file_extension": ".py",
   "mimetype": "text/x-python",
   "name": "python",
   "nbconvert_exporter": "python",
   "pygments_lexer": "ipython3",
   "version": "3.9.13"
  }
 },
 "nbformat": 4,
 "nbformat_minor": 5
}
