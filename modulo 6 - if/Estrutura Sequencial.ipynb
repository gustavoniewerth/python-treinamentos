{
 "cells": [
  {
   "cell_type": "markdown",
   "id": "bb0f9514",
   "metadata": {},
   "source": [
    "# Lista de Estrutura Sequencial"
   ]
  },
  {
   "cell_type": "markdown",
   "id": "4e7a8c30",
   "metadata": {},
   "source": [
    "#### 1. Faça um Programa que mostre a mensagem (print) \"Alo mundo\" na tela."
   ]
  },
  {
   "cell_type": "code",
   "execution_count": 1,
   "id": "883bfe85",
   "metadata": {},
   "outputs": [
    {
     "name": "stdout",
     "output_type": "stream",
     "text": [
      "Alo mundo\n"
     ]
    }
   ],
   "source": [
    "print('Alo mundo')"
   ]
  },
  {
   "cell_type": "markdown",
   "id": "71d6d6a2",
   "metadata": {},
   "source": [
    "#### 2. Faça um Programa que peça um número (input) e então mostre a mensagem: \"O número informado foi [número].\""
   ]
  },
  {
   "cell_type": "code",
   "execution_count": 2,
   "id": "30cfffcf",
   "metadata": {},
   "outputs": [
    {
     "name": "stdout",
     "output_type": "stream",
     "text": [
      "Digite um numero 5\n",
      "5\n"
     ]
    }
   ],
   "source": [
    "numero = input('Digite um numero ')\n",
    "print(numero)"
   ]
  },
  {
   "cell_type": "markdown",
   "id": "c5e43160",
   "metadata": {},
   "source": [
    "#### 3. Faça um Programa que peça dois números e imprima a soma."
   ]
  },
  {
   "cell_type": "code",
   "execution_count": 5,
   "id": "b0e79590",
   "metadata": {},
   "outputs": [
    {
     "name": "stdout",
     "output_type": "stream",
     "text": [
      "Primeiro numero5\n",
      "Segundo numero3\n",
      "8\n"
     ]
    }
   ],
   "source": [
    "numero_1 = int(input('Primeiro numero'))\n",
    "numero_2 = int(input('Segundo numero'))\n",
    "\n",
    "print(numero_1 + numero_2)"
   ]
  },
  {
   "cell_type": "markdown",
   "id": "17826987",
   "metadata": {},
   "source": [
    "#### 4. Faça um Programa que peça as 4 notas bimestrais de um aluno e mostre a média de todas as notas."
   ]
  },
  {
   "cell_type": "code",
   "execution_count": 8,
   "id": "23b66762",
   "metadata": {},
   "outputs": [
    {
     "name": "stdout",
     "output_type": "stream",
     "text": [
      "6\n",
      "7\n",
      "8\n",
      "4\n",
      "Média 6.25\n"
     ]
    }
   ],
   "source": [
    "notas = []\n",
    "\n",
    "for i in range(0, 4):\n",
    "    nota = int(input())\n",
    "    notas.append(nota)\n",
    "\n",
    "media = sum(notas)/len(notas)\n",
    "\n",
    "print(f'Média {media}')"
   ]
  },
  {
   "cell_type": "markdown",
   "id": "62d461c5",
   "metadata": {},
   "source": [
    "#### 5. Faça um Programa que converta metros para centímetros. Você pode pedir o comprimento em metros para o usuário (input)."
   ]
  },
  {
   "cell_type": "code",
   "execution_count": 9,
   "id": "d642f1ba",
   "metadata": {},
   "outputs": [
    {
     "name": "stdout",
     "output_type": "stream",
     "text": [
      "Passe o comprimento em metros10\n",
      "1000.0 cm\n"
     ]
    }
   ],
   "source": [
    "metros = float(input('Passe o comprimento em metros '))\n",
    "\n",
    "conversor_cm = metros * 100\n",
    "\n",
    "print(conversor_cm, 'cm')"
   ]
  },
  {
   "cell_type": "markdown",
   "id": "f1311697",
   "metadata": {},
   "source": [
    "#### 7. Faça um Programa que calcule a área de uma sala de um apartamento. Para isso, o seu programa precisa pedir a largura da sala, o comprimento da sala e imprimir a área em m² da sala."
   ]
  },
  {
   "cell_type": "code",
   "execution_count": 11,
   "id": "612ea24b",
   "metadata": {},
   "outputs": [
    {
     "name": "stdout",
     "output_type": "stream",
     "text": [
      "Digite a largura10\n",
      "Digite o comprimento22\n",
      "220\n"
     ]
    }
   ],
   "source": [
    "largura = int(input('Digite a largura'))\n",
    "comprimento = int(input('Digite o comprimento'))\n",
    "\n",
    "metros_2 = largura * comprimento\n",
    "\n",
    "print(metros_2, '')"
   ]
  },
  {
   "cell_type": "markdown",
   "id": "2a285929",
   "metadata": {},
   "source": [
    "#### 8. Faça um Programa que pergunte quanto você ganha por hora e o número de horas trabalhadas no mês. Calcule e mostre o total do seu salário no referido mês."
   ]
  },
  {
   "cell_type": "code",
   "execution_count": null,
   "id": "359e2232",
   "metadata": {},
   "outputs": [],
   "source": [
    "dias_trabalhados = int(input())\n",
    "ganho_horas = int(input())\n",
    "horas_trabalhadas = float(input())"
   ]
  },
  {
   "cell_type": "markdown",
   "id": "7e2d4615",
   "metadata": {},
   "source": [
    "#### 9. Vamos criar um conversor de temperatura. Faça um Programa que peça a temperatura em graus Fahrenheit, transforme e mostre a temperatura em graus Celsius.\n",
    "$C = \\frac{5}{9}(F-32)$"
   ]
  },
  {
   "cell_type": "code",
   "execution_count": 13,
   "id": "82daf9fd",
   "metadata": {},
   "outputs": [
    {
     "name": "stdout",
     "output_type": "stream",
     "text": [
      "90\n",
      "32.22222222222222\n"
     ]
    }
   ],
   "source": [
    "graus_fahrenheit = float(input())\n",
    "\n",
    "graus_celsius = (graus_fahrenheit - 32) * (5/9)\n",
    "\n",
    "print(graus_celsius)\n"
   ]
  },
  {
   "cell_type": "markdown",
   "id": "20708b1c",
   "metadata": {},
   "source": [
    "#### 10. Faça um Programa que peça a temperatura em graus Celsius, transforme e mostre em graus Fahrenheit.\n",
    "$F = \\frac{9}{5}C + 32$"
   ]
  },
  {
   "cell_type": "code",
   "execution_count": 14,
   "id": "c73cfb38",
   "metadata": {},
   "outputs": [
    {
     "name": "stdout",
     "output_type": "stream",
     "text": [
      "25\n",
      "77.0\n"
     ]
    }
   ],
   "source": [
    "graus_celsius = float(input())\n",
    "\n",
    "graus_fahrenheit = graus_celsius * (9/5) + 32\n",
    "\n",
    "print(graus_fahrenheit)"
   ]
  },
  {
   "cell_type": "markdown",
   "id": "b263a9dc",
   "metadata": {},
   "source": [
    "#### 12. Tendo como dados de entrada a altura (h) de uma pessoa, construa um algoritmo que calcule seu peso ideal, usando a seguinte fórmula:\n",
    "$P = 72,7h - 58$\n",
    "\n",
    "Lembrando que \"algoritmo\" nada mais é do que um programa, como todos os outros que você vem fazendo"
   ]
  },
  {
   "cell_type": "code",
   "execution_count": 15,
   "id": "9a9b8dca",
   "metadata": {},
   "outputs": [
    {
     "name": "stdout",
     "output_type": "stream",
     "text": [
      "Digite sua altura1.71\n",
      "66.31700000000001\n"
     ]
    }
   ],
   "source": [
    "altura = float(input('Digite sua altura'))\n",
    "\n",
    "peso_ideal = 72.7 * altura - 58\n",
    "\n",
    "print(peso_ideal)"
   ]
  },
  {
   "cell_type": "markdown",
   "id": "13bb40d7",
   "metadata": {},
   "source": [
    "#### 13. Tendo como dado de entrada a altura (h) de uma pessoa, construa um algoritmo que calcule seu peso ideal, utilizando as seguintes fórmulas:\n",
    "##### a. Para homens: $P = 72,7h - 58$\n",
    "##### b. Para mulheres: $P = 62,1h - 44,7$"
   ]
  },
  {
   "cell_type": "code",
   "execution_count": 20,
   "id": "bf82dc8c",
   "metadata": {},
   "outputs": [
    {
     "name": "stdout",
     "output_type": "stream",
     "text": [
      "digite sua altura1.71\n",
      "66.31700000000001\n",
      "61.491\n"
     ]
    }
   ],
   "source": [
    "h = float(input('digite sua altura'))\n",
    "\n",
    "p_homem = 72.7 * h - 58\n",
    "p_mulher = 62.1 * h - 44.7\n",
    "\n",
    "print(f'{p_homem}\\n{p_mulher}')"
   ]
  },
  {
   "cell_type": "markdown",
   "id": "f208ef89",
   "metadata": {},
   "source": [
    "#### 15. Faça um Programa que pergunte quanto você ganha por hora e o número de horas trabalhadas no mês."
   ]
  },
  {
   "cell_type": "code",
   "execution_count": 27,
   "id": "2d5b23e0",
   "metadata": {},
   "outputs": [
    {
     "name": "stdout",
     "output_type": "stream",
     "text": [
      "Quantas horas você trabalha por mês220\n",
      "Digite seu salário por hora15\n"
     ]
    }
   ],
   "source": [
    "horas_mes = int(input('Quantas horas você trabalha por mês'))\n",
    "salario_hora = float(input('Digite seu salário por hora'))"
   ]
  },
  {
   "cell_type": "markdown",
   "id": "607dee3c",
   "metadata": {},
   "source": [
    "#####  Calcule o salário bruto (horas * salario por hora)"
   ]
  },
  {
   "cell_type": "code",
   "execution_count": 28,
   "id": "7f80ccbb",
   "metadata": {},
   "outputs": [
    {
     "name": "stdout",
     "output_type": "stream",
     "text": [
      "3300.0\n"
     ]
    }
   ],
   "source": [
    "salario_bruto = horas_mes * salario_hora\n",
    "print(salario_bruto)"
   ]
  },
  {
   "cell_type": "markdown",
   "id": "2ed93cb0",
   "metadata": {},
   "source": [
    "##### Calcule o desconto do IR (11% do salário bruto)"
   ]
  },
  {
   "cell_type": "code",
   "execution_count": 29,
   "id": "3363e22f",
   "metadata": {},
   "outputs": [
    {
     "name": "stdout",
     "output_type": "stream",
     "text": [
      "363.0\n"
     ]
    }
   ],
   "source": [
    "desconto_ir = salario_bruto * 0.11\n",
    "print(desconto_ir)"
   ]
  },
  {
   "cell_type": "markdown",
   "id": "0994b2c0",
   "metadata": {},
   "source": [
    "##### Calcule o desconto do INSS (8% do salário bruto)"
   ]
  },
  {
   "cell_type": "code",
   "execution_count": 30,
   "id": "748c6088",
   "metadata": {},
   "outputs": [
    {
     "name": "stdout",
     "output_type": "stream",
     "text": [
      "264.0\n"
     ]
    }
   ],
   "source": [
    "desconto_inss = salario_bruto * 0.08\n",
    "print(desconto_inss)"
   ]
  },
  {
   "cell_type": "markdown",
   "id": "06e8dae4",
   "metadata": {},
   "source": [
    "##### Calcule o desconto do sindicato (5% do salário bruto)"
   ]
  },
  {
   "cell_type": "code",
   "execution_count": 31,
   "id": "21b95b15",
   "metadata": {
    "scrolled": true
   },
   "outputs": [
    {
     "name": "stdout",
     "output_type": "stream",
     "text": [
      "165.0\n"
     ]
    }
   ],
   "source": [
    "desconto_sindicato = salario_bruto * 0.05\n",
    "print(desconto_sindicato)"
   ]
  },
  {
   "cell_type": "markdown",
   "id": "bb14ce36",
   "metadata": {},
   "source": [
    "##### Calcule o salário líquido (salário bruto - descontos)"
   ]
  },
  {
   "cell_type": "code",
   "execution_count": 32,
   "id": "56317086",
   "metadata": {},
   "outputs": [
    {
     "name": "stdout",
     "output_type": "stream",
     "text": [
      "792.0\n",
      "2508.0\n"
     ]
    }
   ],
   "source": [
    "desconto_total = desconto_ir + desconto_inss + desconto_sindicato\n",
    "print(desconto_total)\n",
    "salario_liquido = salario_bruto - desconto_total \n",
    "print(salario_liquido)"
   ]
  },
  {
   "cell_type": "markdown",
   "id": "cfbfcc87",
   "metadata": {},
   "source": [
    "#### 16. Faça um programa para uma loja de tintas. O programa deverá pedir o tamanho em metros quadrados da área a ser pintada. Considere que a cobertura da tinta é de 1 litro para cada 3 metros quadrados e que a tinta é vendida em latas de 18 litros, que custam R\\$ 80,00. Informe ao usuário a quantidades de latas de tinta a serem compradas e o preço total. (para simplificação nesse momento, não se preocupe em arredondar a quantidade de latas a serem compradas - vamos trabalhar isso em breve)"
   ]
  },
  {
   "cell_type": "code",
   "execution_count": 34,
   "id": "fb6a083b",
   "metadata": {},
   "outputs": [
    {
     "name": "stdout",
     "output_type": "stream",
     "text": [
      "Metros quadrados a serem cobridos250\n",
      " Quantidade de latas necessárias: 4.62962962962963 \n",
      " Custo total: 370.3703703703704\n"
     ]
    }
   ],
   "source": [
    "metros_quadrados = float(input('Metros quadrados a serem cobridos'))\n",
    "cobertura_tinta_litros = metros_quadrados / 3\n",
    "latas = cobertura_tinta_litros / 18\n",
    "total_custo_latas = latas * 80\n",
    "\n",
    "print(f' Quantidade de latas necessárias: {latas} \\n Custo total: {total_custo_latas}')"
   ]
  },
  {
   "cell_type": "markdown",
   "id": "d6503c92",
   "metadata": {},
   "source": [
    "#### 18. Faça um programa que peça o tamanho de um arquivo para download (em MB) e a velocidade de um link de Internet (em Mbps), calcule e informe o tempo aproximado de download do arquivo usando este link (em minutos).\n",
    "\n",
    "Detalhe: MB significa megabyte, Mb (com b minúsculo) significa megabit. Um megabit é 1/8 de um megabyte. "
   ]
  },
  {
   "cell_type": "code",
   "execution_count": 37,
   "id": "0563aa62",
   "metadata": {},
   "outputs": [
    {
     "name": "stdout",
     "output_type": "stream",
     "text": [
      "Tamanho do arquivo em MBs15\n",
      "Velocidade do link em Mbps10\n",
      "12.0\n"
     ]
    }
   ],
   "source": [
    "tamanho_mb = float(input('Tamanho do arquivo em MBs'))\n",
    "velocidade_mbps = float(input('Velocidade do link em Mbps'))\n",
    "tempo_download = tamanho_mb / (velocidade_mbps / 8)\n",
    "print(tempo_download)"
   ]
  },
  {
   "cell_type": "code",
   "execution_count": null,
   "id": "89c7edaf",
   "metadata": {},
   "outputs": [],
   "source": []
  }
 ],
 "metadata": {
  "kernelspec": {
   "display_name": "Python 3 (ipykernel)",
   "language": "python",
   "name": "python3"
  },
  "language_info": {
   "codemirror_mode": {
    "name": "ipython",
    "version": 3
   },
   "file_extension": ".py",
   "mimetype": "text/x-python",
   "name": "python",
   "nbconvert_exporter": "python",
   "pygments_lexer": "ipython3",
   "version": "3.9.13"
  }
 },
 "nbformat": 4,
 "nbformat_minor": 5
}
